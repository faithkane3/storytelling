{
 "cells": [
  {
   "cell_type": "markdown",
   "id": "08ea4614-b579-403e-b683-72e6f881bea4",
   "metadata": {},
   "source": [
    "### Fibonacci Sequence"
   ]
  },
  {
   "cell_type": "code",
   "execution_count": 1,
   "id": "587ad258-57d2-4c15-961e-1100d4a6d350",
   "metadata": {},
   "outputs": [],
   "source": [
    "fib = [0, 1]\n",
    "fib_increment = fib[0] + fib[1]\n",
    "fib.append(fib_increment)"
   ]
  },
  {
   "cell_type": "code",
   "execution_count": 2,
   "id": "5d037a9b-392c-43e2-9ad6-3c9297609610",
   "metadata": {},
   "outputs": [
    {
     "data": {
      "text/plain": [
       "[0, 1, 1]"
      ]
     },
     "execution_count": 2,
     "metadata": {},
     "output_type": "execute_result"
    }
   ],
   "source": [
    "fib"
   ]
  },
  {
   "cell_type": "code",
   "execution_count": 2,
   "id": "5b38977d-ff13-4f78-9538-4cd5242ce61d",
   "metadata": {},
   "outputs": [
    {
     "name": "stdout",
     "output_type": "stream",
     "text": [
      "[0, 1, 1]\n",
      "[0, 1, 1, 2]\n",
      "[0, 1, 1, 2, 3]\n",
      "[0, 1, 1, 2, 3, 5]\n",
      "[0, 1, 1, 2, 3, 5, 8]\n",
      "[0, 1, 1, 2, 3, 5, 8, 13]\n",
      "[0, 1, 1, 2, 3, 5, 8, 13, 21]\n",
      "[0, 1, 1, 2, 3, 5, 8, 13, 21, 34]\n",
      "[0, 1, 1, 2, 3, 5, 8, 13, 21, 34, 55]\n",
      "[0, 1, 1, 2, 3, 5, 8, 13, 21, 34, 55, 89]\n"
     ]
    }
   ],
   "source": [
    "fib = [0, 1]\n",
    "for i in range(10):\n",
    "    fib_increment = fib[i] + fib[i + 1]\n",
    "    fib.append(fib_increment)\n",
    "    print(fib)"
   ]
  },
  {
   "cell_type": "code",
   "execution_count": 6,
   "id": "83d6565d-6608-410b-8a7b-c2b441c81527",
   "metadata": {},
   "outputs": [],
   "source": [
    "def get_fib(r):\n",
    "    fib = [0, 1]\n",
    "    for i in range(r):\n",
    "        fib_increment = fib[i] + fib[i + 1]\n",
    "        fib.append(fib_increment)\n",
    "        print(fib)"
   ]
  },
  {
   "cell_type": "code",
   "execution_count": 7,
   "id": "b96fdc0e-7238-4ce2-b88f-3f2845c098e1",
   "metadata": {},
   "outputs": [
    {
     "name": "stdout",
     "output_type": "stream",
     "text": [
      "[0, 1, 1]\n",
      "[0, 1, 1, 2]\n",
      "[0, 1, 1, 2, 3]\n",
      "[0, 1, 1, 2, 3, 5]\n",
      "[0, 1, 1, 2, 3, 5, 8]\n",
      "[0, 1, 1, 2, 3, 5, 8, 13]\n",
      "[0, 1, 1, 2, 3, 5, 8, 13, 21]\n",
      "[0, 1, 1, 2, 3, 5, 8, 13, 21, 34]\n",
      "[0, 1, 1, 2, 3, 5, 8, 13, 21, 34, 55]\n",
      "[0, 1, 1, 2, 3, 5, 8, 13, 21, 34, 55, 89]\n"
     ]
    }
   ],
   "source": [
    "assert get_fib(10) == get_fib(10)"
   ]
  },
  {
   "cell_type": "markdown",
   "id": "1c4c7d93-fd6e-419c-96ad-0e216cbf2ce8",
   "metadata": {},
   "source": [
    "___"
   ]
  },
  {
   "cell_type": "markdown",
   "id": "91f29c41-06a7-479f-9d20-25d8be7a9461",
   "metadata": {},
   "source": [
    "### Fizzbuzz"
   ]
  },
  {
   "cell_type": "code",
   "execution_count": 16,
   "id": "8d3d5fa5-9a47-4fd7-b0e7-83b377744e43",
   "metadata": {},
   "outputs": [],
   "source": [
    "def fizz_buzz(num):\n",
    "    for i in range(1, num):\n",
    "        if i % 15 == 0:\n",
    "            print('fizzbuzz')\n",
    "        elif i % 3 == 0:\n",
    "            print('fizz')\n",
    "        elif i % 5 == 0:\n",
    "            print('buzz')\n",
    "        else:\n",
    "            print(i)"
   ]
  },
  {
   "cell_type": "code",
   "execution_count": 20,
   "id": "c91a6621-03c4-4eef-9e47-28671b82d901",
   "metadata": {},
   "outputs": [
    {
     "name": "stdout",
     "output_type": "stream",
     "text": [
      "1\n",
      "2\n",
      "fizz\n",
      "4\n",
      "buzz\n",
      "fizz\n",
      "7\n",
      "8\n",
      "fizz\n",
      "buzz\n",
      "11\n",
      "fizz\n",
      "13\n",
      "14\n",
      "fizzbuzz\n",
      "16\n",
      "17\n",
      "fizz\n",
      "19\n",
      "buzz\n",
      "fizz\n",
      "22\n",
      "23\n",
      "fizz\n",
      "buzz\n",
      "26\n",
      "fizz\n",
      "28\n",
      "29\n"
     ]
    }
   ],
   "source": [
    "fizz_buzz(30)"
   ]
  },
  {
   "cell_type": "markdown",
   "id": "7bc980be-fc64-40e8-b213-760974adb75c",
   "metadata": {},
   "source": [
    "___"
   ]
  },
  {
   "cell_type": "markdown",
   "id": "ae893809-c15e-49a9-96d1-95d7f3cd71a1",
   "metadata": {},
   "source": [
    "### Find the longest word in a string and return word and the length of the word."
   ]
  },
  {
   "cell_type": "code",
   "execution_count": 3,
   "id": "e29f97b5-b041-4dea-9696-2d8c756cc67a",
   "metadata": {},
   "outputs": [],
   "source": [
    "words_string = 'Which is the longest word in this string?'"
   ]
  },
  {
   "cell_type": "code",
   "execution_count": 16,
   "id": "79075a1e-2cd0-4088-abf4-61349ac11af5",
   "metadata": {},
   "outputs": [
    {
     "name": "stdout",
     "output_type": "stream",
     "text": [
      "longest 7\n"
     ]
    }
   ],
   "source": [
    "longest_word = max(words, key=len)\n",
    "print(longest_word, len(longest_word))"
   ]
  },
  {
   "cell_type": "code",
   "execution_count": 17,
   "id": "cf542e28-6890-4672-b350-bb6520963f3a",
   "metadata": {},
   "outputs": [],
   "source": [
    "# Create a function that returns the longest word in a string and it's length.\n",
    "\n",
    "def longest_word(string):\n",
    "    '''\n",
    "    Function takes in: a string\n",
    "    Returns: the longest word and its length \n",
    "    '''\n",
    "    longest_word = max(words, key=len)\n",
    "    return longest_word, len(longest_word)"
   ]
  },
  {
   "cell_type": "code",
   "execution_count": 40,
   "id": "d32eb2a4-737e-497c-9694-986c65581c8a",
   "metadata": {},
   "outputs": [],
   "source": [
    "assert longest_word(words_string) == ('longest', 7)"
   ]
  },
  {
   "cell_type": "code",
   "execution_count": 23,
   "id": "0fc3cf7a-cc75-44b4-aa55-056c3e608ac9",
   "metadata": {},
   "outputs": [
    {
     "name": "stdout",
     "output_type": "stream",
     "text": [
      "The longest word is longest and its length is 7.\n"
     ]
    }
   ],
   "source": [
    "print(f'The longest word is {word} and its length is {length}.')"
   ]
  },
  {
   "cell_type": "markdown",
   "id": "9934a1d9-2cff-45c5-be4a-b272ff34b421",
   "metadata": {},
   "source": [
    "___"
   ]
  },
  {
   "cell_type": "markdown",
   "id": "993391cb-89e8-449a-92e2-c7128d929638",
   "metadata": {},
   "source": [
    "### Return if a string is a palindrome."
   ]
  },
  {
   "cell_type": "code",
   "execution_count": 24,
   "id": "ac2e6849-d2ec-4176-a225-af8978f960ab",
   "metadata": {},
   "outputs": [],
   "source": [
    "palindrome = 'level'"
   ]
  },
  {
   "cell_type": "code",
   "execution_count": 29,
   "id": "1c613903-cddb-4317-b9d3-a18fc6618fa8",
   "metadata": {},
   "outputs": [
    {
     "data": {
      "text/plain": [
       "'level'"
      ]
     },
     "execution_count": 29,
     "metadata": {},
     "output_type": "execute_result"
    }
   ],
   "source": [
    "palindrome[::-1]"
   ]
  },
  {
   "cell_type": "code",
   "execution_count": 30,
   "id": "ac0529a3-6cd7-4084-a54f-6734d01d2005",
   "metadata": {},
   "outputs": [],
   "source": [
    "def is_palindrome(word):\n",
    "    return word == word[::-1]"
   ]
  },
  {
   "cell_type": "code",
   "execution_count": 38,
   "id": "b2741228-84bb-4cb9-8b49-0e0e96a4b0c2",
   "metadata": {},
   "outputs": [],
   "source": [
    "assert is_palindrome('level') == True\n",
    "assert is_palindrome('hops') == False\n",
    "assert is_palindrome('nun') == True"
   ]
  },
  {
   "cell_type": "code",
   "execution_count": 41,
   "id": "d8af0aaa-2017-44f3-9520-36fad300a181",
   "metadata": {},
   "outputs": [
    {
     "data": {
      "text/plain": [
       "'level'"
      ]
     },
     "execution_count": 41,
     "metadata": {},
     "output_type": "execute_result"
    }
   ],
   "source": [
    "''.join(reversed(palindrome))"
   ]
  },
  {
   "cell_type": "code",
   "execution_count": 44,
   "id": "91cfbb6d-f014-475a-95a5-20c5cb385e4e",
   "metadata": {},
   "outputs": [],
   "source": [
    "def is_palindrome2(word):\n",
    "    return word == ''.join(reversed(word))"
   ]
  },
  {
   "cell_type": "code",
   "execution_count": 45,
   "id": "93a4e0c2-0817-4b05-8751-eeb330d87310",
   "metadata": {},
   "outputs": [],
   "source": [
    "assert is_palindrome2('level') == True\n",
    "assert is_palindrome2('hops') == False\n",
    "assert is_palindrome2('nun') == True"
   ]
  },
  {
   "cell_type": "code",
   "execution_count": 48,
   "id": "900cf3d4-af15-41d3-be0e-d15055804053",
   "metadata": {},
   "outputs": [
    {
     "data": {
      "text/plain": [
       "'olleh'"
      ]
     },
     "execution_count": 48,
     "metadata": {},
     "output_type": "execute_result"
    }
   ],
   "source": [
    "''.join(reversed('hello'))"
   ]
  },
  {
   "cell_type": "code",
   "execution_count": 73,
   "id": "3543dc36-ed67-4e4a-a78d-28a79b2b2b4c",
   "metadata": {},
   "outputs": [
    {
     "data": {
      "text/plain": [
       "5"
      ]
     },
     "execution_count": 73,
     "metadata": {},
     "output_type": "execute_result"
    }
   ],
   "source": [
    "# Create an empty list to hold the letters\n",
    "reversed_string = []\n",
    "\n",
    "# Calculate the length of the string and save in index var.\n",
    "index = len('level') \n",
    "index"
   ]
  },
  {
   "cell_type": "code",
   "execution_count": 74,
   "id": "066e02d1-c789-4c66-9316-7a85d3d0eeae",
   "metadata": {},
   "outputs": [],
   "source": [
    "def index_is_palindrome(string):\n",
    "    # Create an empty list to hold the letters in reverse.\n",
    "    reversed_string = []\n",
    "\n",
    "    # Calculate the length of the string and save in index var.\n",
    "    index = len(string) \n",
    "    \n",
    "    while index > 0: \n",
    "        \n",
    "        # Capture the value of str[index-1] in reverse_string var.\n",
    "        reversed_string += string[index - 1]\n",
    "        \n",
    "        # Decrement index by 1 and capture\n",
    "        index = index - 1 \n",
    "        \n",
    "    return ''.join(reversed_string) == string"
   ]
  },
  {
   "cell_type": "code",
   "execution_count": 75,
   "id": "072fc952-32db-40e0-9aff-051ddef6adee",
   "metadata": {},
   "outputs": [
    {
     "data": {
      "text/plain": [
       "True"
      ]
     },
     "execution_count": 75,
     "metadata": {},
     "output_type": "execute_result"
    }
   ],
   "source": [
    "index_is_palindrome('level')"
   ]
  },
  {
   "cell_type": "code",
   "execution_count": 76,
   "id": "879a96d1-cf5f-4d5c-8277-a62265a4b2eb",
   "metadata": {},
   "outputs": [],
   "source": [
    "assert index_is_palindrome('level') == True\n",
    "assert index_is_palindrome('hops') == False\n",
    "assert index_is_palindrome('nun') == True"
   ]
  }
 ],
 "metadata": {
  "kernelspec": {
   "display_name": "Python 3",
   "language": "python",
   "name": "python3"
  },
  "language_info": {
   "codemirror_mode": {
    "name": "ipython",
    "version": 3
   },
   "file_extension": ".py",
   "mimetype": "text/x-python",
   "name": "python",
   "nbconvert_exporter": "python",
   "pygments_lexer": "ipython3",
   "version": "3.7.7"
  }
 },
 "nbformat": 4,
 "nbformat_minor": 5
}
