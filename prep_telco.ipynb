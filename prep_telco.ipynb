{
 "cells": [
  {
   "cell_type": "code",
   "execution_count": 1,
   "id": "1d71ce94-c31b-4cf1-babd-65dcd50a4b78",
   "metadata": {},
   "outputs": [],
   "source": [
    "import pandas as pd\n",
    "import numpy as np\n",
    "import matplotlib.pyplot as plt"
   ]
  },
  {
   "cell_type": "markdown",
   "id": "9776fa60-fb54-4ed0-b5ee-9a9c0faaf394",
   "metadata": {},
   "source": [
    "## Acquire Telco Data"
   ]
  },
  {
   "cell_type": "code",
   "execution_count": 2,
   "id": "eb6c96ea-8191-44ed-89b7-687be2d8393e",
   "metadata": {},
   "outputs": [
    {
     "data": {
      "text/html": [
       "<div>\n",
       "<style scoped>\n",
       "    .dataframe tbody tr th:only-of-type {\n",
       "        vertical-align: middle;\n",
       "    }\n",
       "\n",
       "    .dataframe tbody tr th {\n",
       "        vertical-align: top;\n",
       "    }\n",
       "\n",
       "    .dataframe thead th {\n",
       "        text-align: right;\n",
       "    }\n",
       "</style>\n",
       "<table border=\"1\" class=\"dataframe\">\n",
       "  <thead>\n",
       "    <tr style=\"text-align: right;\">\n",
       "      <th></th>\n",
       "      <th>customer_id</th>\n",
       "      <th>gender</th>\n",
       "      <th>is_senior_citizen</th>\n",
       "      <th>partner</th>\n",
       "      <th>dependents</th>\n",
       "      <th>phone_service</th>\n",
       "      <th>internet_service</th>\n",
       "      <th>contract_type</th>\n",
       "      <th>payment_type</th>\n",
       "      <th>monthly_charges</th>\n",
       "      <th>...</th>\n",
       "      <th>has_internet</th>\n",
       "      <th>has_internet_and_phone</th>\n",
       "      <th>partner_dependents</th>\n",
       "      <th>Start_day</th>\n",
       "      <th>Monthly_charges</th>\n",
       "      <th>Validation</th>\n",
       "      <th>Contract Type</th>\n",
       "      <th>Phone Type</th>\n",
       "      <th>Internet Type</th>\n",
       "      <th>Monthly Tenure</th>\n",
       "    </tr>\n",
       "  </thead>\n",
       "  <tbody>\n",
       "    <tr>\n",
       "      <th>0</th>\n",
       "      <td>0002-ORFBO</td>\n",
       "      <td>Female</td>\n",
       "      <td>0</td>\n",
       "      <td>Yes</td>\n",
       "      <td>Yes</td>\n",
       "      <td>1</td>\n",
       "      <td>1</td>\n",
       "      <td>1</td>\n",
       "      <td>Mailed check</td>\n",
       "      <td>65.6</td>\n",
       "      <td>...</td>\n",
       "      <td>True</td>\n",
       "      <td>True</td>\n",
       "      <td>3</td>\n",
       "      <td>2020-05-03</td>\n",
       "      <td>65.6</td>\n",
       "      <td>1</td>\n",
       "      <td>1 Year</td>\n",
       "      <td>One Line</td>\n",
       "      <td>DSL</td>\n",
       "      <td>9.0</td>\n",
       "    </tr>\n",
       "    <tr>\n",
       "      <th>1</th>\n",
       "      <td>0003-MKNFE</td>\n",
       "      <td>Male</td>\n",
       "      <td>0</td>\n",
       "      <td>No</td>\n",
       "      <td>No</td>\n",
       "      <td>2</td>\n",
       "      <td>1</td>\n",
       "      <td>0</td>\n",
       "      <td>Mailed check</td>\n",
       "      <td>59.9</td>\n",
       "      <td>...</td>\n",
       "      <td>True</td>\n",
       "      <td>True</td>\n",
       "      <td>0</td>\n",
       "      <td>2020-05-03</td>\n",
       "      <td>59.9</td>\n",
       "      <td>1</td>\n",
       "      <td>Month-to-Month</td>\n",
       "      <td>Two or More Lines</td>\n",
       "      <td>DSL</td>\n",
       "      <td>9.0</td>\n",
       "    </tr>\n",
       "    <tr>\n",
       "      <th>2</th>\n",
       "      <td>0004-TLHLJ</td>\n",
       "      <td>Male</td>\n",
       "      <td>0</td>\n",
       "      <td>No</td>\n",
       "      <td>No</td>\n",
       "      <td>1</td>\n",
       "      <td>2</td>\n",
       "      <td>0</td>\n",
       "      <td>Electronic check</td>\n",
       "      <td>73.9</td>\n",
       "      <td>...</td>\n",
       "      <td>True</td>\n",
       "      <td>True</td>\n",
       "      <td>0</td>\n",
       "      <td>2020-11-03</td>\n",
       "      <td>73.9</td>\n",
       "      <td>1</td>\n",
       "      <td>Month-to-Month</td>\n",
       "      <td>One Line</td>\n",
       "      <td>Fiber Optic</td>\n",
       "      <td>4.0</td>\n",
       "    </tr>\n",
       "    <tr>\n",
       "      <th>3</th>\n",
       "      <td>0011-IGKFF</td>\n",
       "      <td>Male</td>\n",
       "      <td>1</td>\n",
       "      <td>Yes</td>\n",
       "      <td>No</td>\n",
       "      <td>1</td>\n",
       "      <td>2</td>\n",
       "      <td>0</td>\n",
       "      <td>Electronic check</td>\n",
       "      <td>98.0</td>\n",
       "      <td>...</td>\n",
       "      <td>True</td>\n",
       "      <td>True</td>\n",
       "      <td>1</td>\n",
       "      <td>2020-02-03</td>\n",
       "      <td>98</td>\n",
       "      <td>1</td>\n",
       "      <td>Month-to-Month</td>\n",
       "      <td>One Line</td>\n",
       "      <td>Fiber Optic</td>\n",
       "      <td>13.0</td>\n",
       "    </tr>\n",
       "    <tr>\n",
       "      <th>4</th>\n",
       "      <td>0013-EXCHZ</td>\n",
       "      <td>Female</td>\n",
       "      <td>1</td>\n",
       "      <td>Yes</td>\n",
       "      <td>No</td>\n",
       "      <td>1</td>\n",
       "      <td>2</td>\n",
       "      <td>0</td>\n",
       "      <td>Mailed check</td>\n",
       "      <td>83.9</td>\n",
       "      <td>...</td>\n",
       "      <td>True</td>\n",
       "      <td>True</td>\n",
       "      <td>1</td>\n",
       "      <td>2020-11-03</td>\n",
       "      <td>83.9</td>\n",
       "      <td>1</td>\n",
       "      <td>Month-to-Month</td>\n",
       "      <td>One Line</td>\n",
       "      <td>Fiber Optic</td>\n",
       "      <td>3.0</td>\n",
       "    </tr>\n",
       "  </tbody>\n",
       "</table>\n",
       "<p>5 rows × 26 columns</p>\n",
       "</div>"
      ],
      "text/plain": [
       "  customer_id  gender  is_senior_citizen partner dependents  phone_service  \\\n",
       "0  0002-ORFBO  Female                  0     Yes        Yes              1   \n",
       "1  0003-MKNFE    Male                  0      No         No              2   \n",
       "2  0004-TLHLJ    Male                  0      No         No              1   \n",
       "3  0011-IGKFF    Male                  1     Yes         No              1   \n",
       "4  0013-EXCHZ  Female                  1     Yes         No              1   \n",
       "\n",
       "   internet_service  contract_type      payment_type  monthly_charges  ...  \\\n",
       "0                 1              1      Mailed check             65.6  ...   \n",
       "1                 1              0      Mailed check             59.9  ...   \n",
       "2                 2              0  Electronic check             73.9  ...   \n",
       "3                 2              0  Electronic check             98.0  ...   \n",
       "4                 2              0      Mailed check             83.9  ...   \n",
       "\n",
       "   has_internet has_internet_and_phone  partner_dependents   Start_day  \\\n",
       "0          True                   True                   3  2020-05-03   \n",
       "1          True                   True                   0  2020-05-03   \n",
       "2          True                   True                   0  2020-11-03   \n",
       "3          True                   True                   1  2020-02-03   \n",
       "4          True                   True                   1  2020-11-03   \n",
       "\n",
       "   Monthly_charges  Validation   Contract Type         Phone Type  \\\n",
       "0             65.6           1          1 Year           One Line   \n",
       "1             59.9           1  Month-to-Month  Two or More Lines   \n",
       "2             73.9           1  Month-to-Month           One Line   \n",
       "3               98           1  Month-to-Month           One Line   \n",
       "4             83.9           1  Month-to-Month           One Line   \n",
       "\n",
       "   Internet Type Monthly Tenure  \n",
       "0            DSL            9.0  \n",
       "1            DSL            9.0  \n",
       "2    Fiber Optic            4.0  \n",
       "3    Fiber Optic           13.0  \n",
       "4    Fiber Optic            3.0  \n",
       "\n",
       "[5 rows x 26 columns]"
      ]
     },
     "execution_count": 2,
     "metadata": {},
     "output_type": "execute_result"
    }
   ],
   "source": [
    "df = pd.read_csv('telco.csv')\n",
    "df.head()"
   ]
  },
  {
   "cell_type": "code",
   "execution_count": 3,
   "id": "4d48a209-f82c-48b1-82de-3957b00ecf9b",
   "metadata": {},
   "outputs": [
    {
     "name": "stdout",
     "output_type": "stream",
     "text": [
      "<class 'pandas.core.frame.DataFrame'>\n",
      "RangeIndex: 7049 entries, 0 to 7048\n",
      "Data columns (total 26 columns):\n",
      " #   Column                  Non-Null Count  Dtype  \n",
      "---  ------                  --------------  -----  \n",
      " 0   customer_id             7043 non-null   object \n",
      " 1   gender                  7049 non-null   object \n",
      " 2   is_senior_citizen       7049 non-null   int64  \n",
      " 3   partner                 7049 non-null   object \n",
      " 4   dependents              7049 non-null   object \n",
      " 5   phone_service           7049 non-null   int64  \n",
      " 6   internet_service        7049 non-null   int64  \n",
      " 7   contract_type           7049 non-null   int64  \n",
      " 8   payment_type            7049 non-null   object \n",
      " 9   monthly_charges         7049 non-null   float64\n",
      " 10  total_charges           7038 non-null   float64\n",
      " 11  churn                   7049 non-null   object \n",
      " 12  Tenure_month            7049 non-null   float64\n",
      " 13  FALSE                   7049 non-null   bool   \n",
      " 14  has_chruned             7049 non-null   bool   \n",
      " 15  has_phone               7049 non-null   bool   \n",
      " 16  has_internet            7049 non-null   bool   \n",
      " 17  has_internet_and_phone  7049 non-null   bool   \n",
      " 18  partner_dependents      7049 non-null   int64  \n",
      " 19  Start_day               7049 non-null   object \n",
      " 20  Monthly_charges         7049 non-null   object \n",
      " 21  Validation              7049 non-null   object \n",
      " 22  Contract Type           7049 non-null   object \n",
      " 23  Phone Type              7049 non-null   object \n",
      " 24  Internet Type           7049 non-null   object \n",
      " 25  Monthly Tenure          7049 non-null   float64\n",
      "dtypes: bool(5), float64(4), int64(5), object(12)\n",
      "memory usage: 1.2+ MB\n"
     ]
    }
   ],
   "source": [
    "df.info()"
   ]
  },
  {
   "cell_type": "markdown",
   "id": "318995e5-b435-4754-ac39-275589aa42fd",
   "metadata": {},
   "source": [
    "## Prepare Telco Data\n",
    "\n",
    "- Drop any rows with Null values.\n",
    "- Keep only columns I may be interested in and exclude all others.\n",
    "- Rename columns clearly and uniformly.\n"
   ]
  },
  {
   "cell_type": "code",
   "execution_count": 4,
   "id": "cf0219c4-aff1-48de-afb2-10d983ef7c32",
   "metadata": {},
   "outputs": [],
   "source": [
    "df = df.dropna()"
   ]
  },
  {
   "cell_type": "code",
   "execution_count": 5,
   "id": "a9543df6-4ea9-4816-b3e1-2d8e6851f65a",
   "metadata": {},
   "outputs": [
    {
     "name": "stdout",
     "output_type": "stream",
     "text": [
      "<class 'pandas.core.frame.DataFrame'>\n",
      "Int64Index: 7032 entries, 0 to 7042\n",
      "Data columns (total 26 columns):\n",
      " #   Column                  Non-Null Count  Dtype  \n",
      "---  ------                  --------------  -----  \n",
      " 0   customer_id             7032 non-null   object \n",
      " 1   gender                  7032 non-null   object \n",
      " 2   is_senior_citizen       7032 non-null   int64  \n",
      " 3   partner                 7032 non-null   object \n",
      " 4   dependents              7032 non-null   object \n",
      " 5   phone_service           7032 non-null   int64  \n",
      " 6   internet_service        7032 non-null   int64  \n",
      " 7   contract_type           7032 non-null   int64  \n",
      " 8   payment_type            7032 non-null   object \n",
      " 9   monthly_charges         7032 non-null   float64\n",
      " 10  total_charges           7032 non-null   float64\n",
      " 11  churn                   7032 non-null   object \n",
      " 12  Tenure_month            7032 non-null   float64\n",
      " 13  FALSE                   7032 non-null   bool   \n",
      " 14  has_chruned             7032 non-null   bool   \n",
      " 15  has_phone               7032 non-null   bool   \n",
      " 16  has_internet            7032 non-null   bool   \n",
      " 17  has_internet_and_phone  7032 non-null   bool   \n",
      " 18  partner_dependents      7032 non-null   int64  \n",
      " 19  Start_day               7032 non-null   object \n",
      " 20  Monthly_charges         7032 non-null   object \n",
      " 21  Validation              7032 non-null   object \n",
      " 22  Contract Type           7032 non-null   object \n",
      " 23  Phone Type              7032 non-null   object \n",
      " 24  Internet Type           7032 non-null   object \n",
      " 25  Monthly Tenure          7032 non-null   float64\n",
      "dtypes: bool(5), float64(4), int64(5), object(12)\n",
      "memory usage: 1.2+ MB\n"
     ]
    }
   ],
   "source": [
    "df.info()"
   ]
  },
  {
   "cell_type": "code",
   "execution_count": 6,
   "id": "712c6c6d-95d6-4cca-994b-4b4ad53de975",
   "metadata": {},
   "outputs": [
    {
     "data": {
      "text/plain": [
       "Index(['customer_id', 'gender', 'is_senior_citizen', 'partner', 'dependents',\n",
       "       'phone_service', 'internet_service', 'contract_type', 'payment_type',\n",
       "       'monthly_charges', 'total_charges', 'churn', 'Tenure_month', 'FALSE',\n",
       "       'has_chruned', 'has_phone', 'has_internet', 'has_internet_and_phone',\n",
       "       'partner_dependents', 'Start_day', 'Monthly_charges', 'Validation',\n",
       "       'Contract Type', 'Phone Type', 'Internet Type', 'Monthly Tenure'],\n",
       "      dtype='object')"
      ]
     },
     "execution_count": 6,
     "metadata": {},
     "output_type": "execute_result"
    }
   ],
   "source": [
    "df.columns"
   ]
  },
  {
   "cell_type": "code",
   "execution_count": 7,
   "id": "80357174-9f96-4658-a38a-a32f3597087d",
   "metadata": {},
   "outputs": [],
   "source": [
    "df = df[['customer_id', 'gender', 'is_senior_citizen', 'partner', 'dependents',\n",
    "       'phone_service', 'internet_service', 'contract_type', 'payment_type',\n",
    "       'monthly_charges', 'total_charges', 'churn', 'Tenure_month',\n",
    "       'has_chruned', 'has_phone', 'has_internet', 'has_internet_and_phone',\n",
    "       'partner_dependents', 'Start_day', 'Phone Type', 'Internet Type']]"
   ]
  },
  {
   "cell_type": "code",
   "execution_count": 8,
   "id": "c70e96db-8ac8-4ccd-8a75-d89230a8ad37",
   "metadata": {},
   "outputs": [
    {
     "name": "stdout",
     "output_type": "stream",
     "text": [
      "<class 'pandas.core.frame.DataFrame'>\n",
      "Int64Index: 7032 entries, 0 to 7042\n",
      "Data columns (total 21 columns):\n",
      " #   Column                  Non-Null Count  Dtype  \n",
      "---  ------                  --------------  -----  \n",
      " 0   customer_id             7032 non-null   object \n",
      " 1   gender                  7032 non-null   object \n",
      " 2   is_senior_citizen       7032 non-null   int64  \n",
      " 3   partner                 7032 non-null   object \n",
      " 4   dependents              7032 non-null   object \n",
      " 5   phone_service           7032 non-null   int64  \n",
      " 6   internet_service        7032 non-null   int64  \n",
      " 7   contract_type           7032 non-null   int64  \n",
      " 8   payment_type            7032 non-null   object \n",
      " 9   monthly_charges         7032 non-null   float64\n",
      " 10  total_charges           7032 non-null   float64\n",
      " 11  churn                   7032 non-null   object \n",
      " 12  Tenure_month            7032 non-null   float64\n",
      " 13  has_chruned             7032 non-null   bool   \n",
      " 14  has_phone               7032 non-null   bool   \n",
      " 15  has_internet            7032 non-null   bool   \n",
      " 16  has_internet_and_phone  7032 non-null   bool   \n",
      " 17  partner_dependents      7032 non-null   int64  \n",
      " 18  Start_day               7032 non-null   object \n",
      " 19  Phone Type              7032 non-null   object \n",
      " 20  Internet Type           7032 non-null   object \n",
      "dtypes: bool(4), float64(3), int64(5), object(9)\n",
      "memory usage: 1016.3+ KB\n"
     ]
    }
   ],
   "source": [
    "df.info()"
   ]
  },
  {
   "cell_type": "code",
   "execution_count": 9,
   "id": "e1d34298-e414-4668-b660-fe3e8d28649c",
   "metadata": {},
   "outputs": [],
   "source": [
    "df.columns = ['customer_id', 'gender', 'is_senior_citizen', 'partner', 'dependents',\n",
    "       'phone_service', 'internet_service', 'contract_int', 'payment_type',\n",
    "       'monthly_charges', 'total_charges', 'churn', 'tenure_month',\n",
    "       'has_churned', 'has_phone', 'has_internet', 'has_internet_and_phone',\n",
    "       'partner_dependents', 'start_day', 'phone_type', 'internet_type']"
   ]
  },
  {
   "cell_type": "code",
   "execution_count": 10,
   "id": "56043f83-0c2b-45b8-8220-c10ee90bbfa3",
   "metadata": {},
   "outputs": [
    {
     "name": "stdout",
     "output_type": "stream",
     "text": [
      "<class 'pandas.core.frame.DataFrame'>\n",
      "Int64Index: 7032 entries, 0 to 7042\n",
      "Data columns (total 21 columns):\n",
      " #   Column                  Non-Null Count  Dtype  \n",
      "---  ------                  --------------  -----  \n",
      " 0   customer_id             7032 non-null   object \n",
      " 1   gender                  7032 non-null   object \n",
      " 2   is_senior_citizen       7032 non-null   int64  \n",
      " 3   partner                 7032 non-null   object \n",
      " 4   dependents              7032 non-null   object \n",
      " 5   phone_service           7032 non-null   int64  \n",
      " 6   internet_service        7032 non-null   int64  \n",
      " 7   contract_int            7032 non-null   int64  \n",
      " 8   payment_type            7032 non-null   object \n",
      " 9   monthly_charges         7032 non-null   float64\n",
      " 10  total_charges           7032 non-null   float64\n",
      " 11  churn                   7032 non-null   object \n",
      " 12  tenure_month            7032 non-null   float64\n",
      " 13  has_churned             7032 non-null   bool   \n",
      " 14  has_phone               7032 non-null   bool   \n",
      " 15  has_internet            7032 non-null   bool   \n",
      " 16  has_internet_and_phone  7032 non-null   bool   \n",
      " 17  partner_dependents      7032 non-null   int64  \n",
      " 18  start_day               7032 non-null   object \n",
      " 19  phone_type              7032 non-null   object \n",
      " 20  internet_type           7032 non-null   object \n",
      "dtypes: bool(4), float64(3), int64(5), object(9)\n",
      "memory usage: 1016.3+ KB\n"
     ]
    }
   ],
   "source": [
    "df.info()"
   ]
  },
  {
   "cell_type": "code",
   "execution_count": 11,
   "id": "ca095ca7-7d46-4f09-ab06-58bd2d7a6548",
   "metadata": {},
   "outputs": [
    {
     "data": {
      "text/plain": [
       "0    3873\n",
       "2    1685\n",
       "1    1474\n",
       "Name: contract_int, dtype: int64"
      ]
     },
     "execution_count": 11,
     "metadata": {},
     "output_type": "execute_result"
    }
   ],
   "source": [
    "df.contract_int.value_counts(dropna=False)"
   ]
  },
  {
   "cell_type": "code",
   "execution_count": 12,
   "id": "8e20eadc-3518-412a-9371-185448bc8e74",
   "metadata": {},
   "outputs": [],
   "source": [
    "# Create a column of string internet type values based on contract_int column.\n",
    "\n",
    "df['contract_type'] = df.contract_int.map({0: 'Month-to-Month', 1: '1 Year', 2: '2 Year'})"
   ]
  },
  {
   "cell_type": "code",
   "execution_count": 13,
   "id": "d868cdfb-de79-4e96-a5f7-5a5cd7b4c6cd",
   "metadata": {},
   "outputs": [
    {
     "name": "stdout",
     "output_type": "stream",
     "text": [
      "<class 'pandas.core.frame.DataFrame'>\n",
      "Int64Index: 7032 entries, 0 to 7042\n",
      "Data columns (total 22 columns):\n",
      " #   Column                  Non-Null Count  Dtype  \n",
      "---  ------                  --------------  -----  \n",
      " 0   customer_id             7032 non-null   object \n",
      " 1   gender                  7032 non-null   object \n",
      " 2   is_senior_citizen       7032 non-null   int64  \n",
      " 3   partner                 7032 non-null   object \n",
      " 4   dependents              7032 non-null   object \n",
      " 5   phone_service           7032 non-null   int64  \n",
      " 6   internet_service        7032 non-null   int64  \n",
      " 7   contract_int            7032 non-null   int64  \n",
      " 8   payment_type            7032 non-null   object \n",
      " 9   monthly_charges         7032 non-null   float64\n",
      " 10  total_charges           7032 non-null   float64\n",
      " 11  churn                   7032 non-null   object \n",
      " 12  tenure_month            7032 non-null   float64\n",
      " 13  has_churned             7032 non-null   bool   \n",
      " 14  has_phone               7032 non-null   bool   \n",
      " 15  has_internet            7032 non-null   bool   \n",
      " 16  has_internet_and_phone  7032 non-null   bool   \n",
      " 17  partner_dependents      7032 non-null   int64  \n",
      " 18  start_day               7032 non-null   object \n",
      " 19  phone_type              7032 non-null   object \n",
      " 20  internet_type           7032 non-null   object \n",
      " 21  contract_type           7032 non-null   object \n",
      "dtypes: bool(4), float64(3), int64(5), object(10)\n",
      "memory usage: 1.0+ MB\n"
     ]
    }
   ],
   "source": [
    "df.info()"
   ]
  },
  {
   "cell_type": "markdown",
   "id": "c343deaa-55f9-44a9-9e00-e67646e3e10c",
   "metadata": {},
   "source": [
    "### Write clean data to csv file."
   ]
  },
  {
   "cell_type": "code",
   "execution_count": 14,
   "id": "f381177b-a2ba-4f11-8de5-af7097cbc144",
   "metadata": {},
   "outputs": [],
   "source": [
    "df.to_csv('clean_telco.csv')"
   ]
  },
  {
   "cell_type": "code",
   "execution_count": 15,
   "id": "ba632944-0bbd-4a58-ad1b-37010cd6d3d1",
   "metadata": {},
   "outputs": [
    {
     "data": {
      "text/html": [
       "<div>\n",
       "<style scoped>\n",
       "    .dataframe tbody tr th:only-of-type {\n",
       "        vertical-align: middle;\n",
       "    }\n",
       "\n",
       "    .dataframe tbody tr th {\n",
       "        vertical-align: top;\n",
       "    }\n",
       "\n",
       "    .dataframe thead th {\n",
       "        text-align: right;\n",
       "    }\n",
       "</style>\n",
       "<table border=\"1\" class=\"dataframe\">\n",
       "  <thead>\n",
       "    <tr style=\"text-align: right;\">\n",
       "      <th></th>\n",
       "      <th>customer_id</th>\n",
       "      <th>gender</th>\n",
       "      <th>is_senior_citizen</th>\n",
       "      <th>partner</th>\n",
       "      <th>dependents</th>\n",
       "      <th>phone_service</th>\n",
       "      <th>internet_service</th>\n",
       "      <th>contract_int</th>\n",
       "      <th>payment_type</th>\n",
       "      <th>monthly_charges</th>\n",
       "      <th>...</th>\n",
       "      <th>tenure_month</th>\n",
       "      <th>has_churned</th>\n",
       "      <th>has_phone</th>\n",
       "      <th>has_internet</th>\n",
       "      <th>has_internet_and_phone</th>\n",
       "      <th>partner_dependents</th>\n",
       "      <th>start_day</th>\n",
       "      <th>phone_type</th>\n",
       "      <th>internet_type</th>\n",
       "      <th>contract_type</th>\n",
       "    </tr>\n",
       "  </thead>\n",
       "  <tbody>\n",
       "    <tr>\n",
       "      <th>0</th>\n",
       "      <td>0002-ORFBO</td>\n",
       "      <td>Female</td>\n",
       "      <td>0</td>\n",
       "      <td>Yes</td>\n",
       "      <td>Yes</td>\n",
       "      <td>1</td>\n",
       "      <td>1</td>\n",
       "      <td>1</td>\n",
       "      <td>Mailed check</td>\n",
       "      <td>65.60</td>\n",
       "      <td>...</td>\n",
       "      <td>9.0</td>\n",
       "      <td>False</td>\n",
       "      <td>True</td>\n",
       "      <td>True</td>\n",
       "      <td>True</td>\n",
       "      <td>3</td>\n",
       "      <td>2020-05-03</td>\n",
       "      <td>One Line</td>\n",
       "      <td>DSL</td>\n",
       "      <td>1 Year</td>\n",
       "    </tr>\n",
       "    <tr>\n",
       "      <th>1</th>\n",
       "      <td>0003-MKNFE</td>\n",
       "      <td>Male</td>\n",
       "      <td>0</td>\n",
       "      <td>No</td>\n",
       "      <td>No</td>\n",
       "      <td>2</td>\n",
       "      <td>1</td>\n",
       "      <td>0</td>\n",
       "      <td>Mailed check</td>\n",
       "      <td>59.90</td>\n",
       "      <td>...</td>\n",
       "      <td>9.1</td>\n",
       "      <td>False</td>\n",
       "      <td>True</td>\n",
       "      <td>True</td>\n",
       "      <td>True</td>\n",
       "      <td>0</td>\n",
       "      <td>2020-05-03</td>\n",
       "      <td>Two or More Lines</td>\n",
       "      <td>DSL</td>\n",
       "      <td>Month-to-Month</td>\n",
       "    </tr>\n",
       "    <tr>\n",
       "      <th>2</th>\n",
       "      <td>0004-TLHLJ</td>\n",
       "      <td>Male</td>\n",
       "      <td>0</td>\n",
       "      <td>No</td>\n",
       "      <td>No</td>\n",
       "      <td>1</td>\n",
       "      <td>2</td>\n",
       "      <td>0</td>\n",
       "      <td>Electronic check</td>\n",
       "      <td>73.90</td>\n",
       "      <td>...</td>\n",
       "      <td>3.8</td>\n",
       "      <td>True</td>\n",
       "      <td>True</td>\n",
       "      <td>True</td>\n",
       "      <td>True</td>\n",
       "      <td>0</td>\n",
       "      <td>2020-11-03</td>\n",
       "      <td>One Line</td>\n",
       "      <td>Fiber Optic</td>\n",
       "      <td>Month-to-Month</td>\n",
       "    </tr>\n",
       "    <tr>\n",
       "      <th>3</th>\n",
       "      <td>0011-IGKFF</td>\n",
       "      <td>Male</td>\n",
       "      <td>1</td>\n",
       "      <td>Yes</td>\n",
       "      <td>No</td>\n",
       "      <td>1</td>\n",
       "      <td>2</td>\n",
       "      <td>0</td>\n",
       "      <td>Electronic check</td>\n",
       "      <td>98.00</td>\n",
       "      <td>...</td>\n",
       "      <td>12.6</td>\n",
       "      <td>True</td>\n",
       "      <td>True</td>\n",
       "      <td>True</td>\n",
       "      <td>True</td>\n",
       "      <td>1</td>\n",
       "      <td>2020-02-03</td>\n",
       "      <td>One Line</td>\n",
       "      <td>Fiber Optic</td>\n",
       "      <td>Month-to-Month</td>\n",
       "    </tr>\n",
       "    <tr>\n",
       "      <th>4</th>\n",
       "      <td>0013-EXCHZ</td>\n",
       "      <td>Female</td>\n",
       "      <td>1</td>\n",
       "      <td>Yes</td>\n",
       "      <td>No</td>\n",
       "      <td>1</td>\n",
       "      <td>2</td>\n",
       "      <td>0</td>\n",
       "      <td>Mailed check</td>\n",
       "      <td>83.90</td>\n",
       "      <td>...</td>\n",
       "      <td>3.2</td>\n",
       "      <td>True</td>\n",
       "      <td>True</td>\n",
       "      <td>True</td>\n",
       "      <td>True</td>\n",
       "      <td>1</td>\n",
       "      <td>2020-11-03</td>\n",
       "      <td>One Line</td>\n",
       "      <td>Fiber Optic</td>\n",
       "      <td>Month-to-Month</td>\n",
       "    </tr>\n",
       "    <tr>\n",
       "      <th>...</th>\n",
       "      <td>...</td>\n",
       "      <td>...</td>\n",
       "      <td>...</td>\n",
       "      <td>...</td>\n",
       "      <td>...</td>\n",
       "      <td>...</td>\n",
       "      <td>...</td>\n",
       "      <td>...</td>\n",
       "      <td>...</td>\n",
       "      <td>...</td>\n",
       "      <td>...</td>\n",
       "      <td>...</td>\n",
       "      <td>...</td>\n",
       "      <td>...</td>\n",
       "      <td>...</td>\n",
       "      <td>...</td>\n",
       "      <td>...</td>\n",
       "      <td>...</td>\n",
       "      <td>...</td>\n",
       "      <td>...</td>\n",
       "      <td>...</td>\n",
       "    </tr>\n",
       "    <tr>\n",
       "      <th>7038</th>\n",
       "      <td>9987-LUTYD</td>\n",
       "      <td>Male</td>\n",
       "      <td>0</td>\n",
       "      <td>Yes</td>\n",
       "      <td>Yes</td>\n",
       "      <td>1</td>\n",
       "      <td>0</td>\n",
       "      <td>2</td>\n",
       "      <td>Credit card (automatic)</td>\n",
       "      <td>19.75</td>\n",
       "      <td>...</td>\n",
       "      <td>43.4</td>\n",
       "      <td>False</td>\n",
       "      <td>True</td>\n",
       "      <td>False</td>\n",
       "      <td>False</td>\n",
       "      <td>3</td>\n",
       "      <td>2017-07-03</td>\n",
       "      <td>One Line</td>\n",
       "      <td>No Internet Service</td>\n",
       "      <td>2 Year</td>\n",
       "    </tr>\n",
       "    <tr>\n",
       "      <th>7039</th>\n",
       "      <td>9992-RRAMN</td>\n",
       "      <td>Male</td>\n",
       "      <td>0</td>\n",
       "      <td>No</td>\n",
       "      <td>No</td>\n",
       "      <td>1</td>\n",
       "      <td>0</td>\n",
       "      <td>0</td>\n",
       "      <td>Mailed check</td>\n",
       "      <td>18.90</td>\n",
       "      <td>...</td>\n",
       "      <td>1.0</td>\n",
       "      <td>False</td>\n",
       "      <td>True</td>\n",
       "      <td>False</td>\n",
       "      <td>False</td>\n",
       "      <td>0</td>\n",
       "      <td>2021-01-03</td>\n",
       "      <td>One Line</td>\n",
       "      <td>No Internet Service</td>\n",
       "      <td>Month-to-Month</td>\n",
       "    </tr>\n",
       "    <tr>\n",
       "      <th>7040</th>\n",
       "      <td>9992-UJOEL</td>\n",
       "      <td>Male</td>\n",
       "      <td>1</td>\n",
       "      <td>Yes</td>\n",
       "      <td>Yes</td>\n",
       "      <td>1</td>\n",
       "      <td>2</td>\n",
       "      <td>1</td>\n",
       "      <td>Bank transfer (automatic)</td>\n",
       "      <td>84.95</td>\n",
       "      <td>...</td>\n",
       "      <td>47.3</td>\n",
       "      <td>False</td>\n",
       "      <td>True</td>\n",
       "      <td>True</td>\n",
       "      <td>True</td>\n",
       "      <td>3</td>\n",
       "      <td>2017-03-03</td>\n",
       "      <td>One Line</td>\n",
       "      <td>Fiber Optic</td>\n",
       "      <td>1 Year</td>\n",
       "    </tr>\n",
       "    <tr>\n",
       "      <th>7041</th>\n",
       "      <td>9993-LHIEB</td>\n",
       "      <td>Female</td>\n",
       "      <td>0</td>\n",
       "      <td>No</td>\n",
       "      <td>No</td>\n",
       "      <td>1</td>\n",
       "      <td>2</td>\n",
       "      <td>1</td>\n",
       "      <td>Mailed check</td>\n",
       "      <td>94.05</td>\n",
       "      <td>...</td>\n",
       "      <td>6.7</td>\n",
       "      <td>False</td>\n",
       "      <td>True</td>\n",
       "      <td>True</td>\n",
       "      <td>True</td>\n",
       "      <td>0</td>\n",
       "      <td>2020-08-03</td>\n",
       "      <td>One Line</td>\n",
       "      <td>Fiber Optic</td>\n",
       "      <td>1 Year</td>\n",
       "    </tr>\n",
       "    <tr>\n",
       "      <th>7042</th>\n",
       "      <td>9995-HOTOH</td>\n",
       "      <td>Female</td>\n",
       "      <td>0</td>\n",
       "      <td>No</td>\n",
       "      <td>No</td>\n",
       "      <td>1</td>\n",
       "      <td>2</td>\n",
       "      <td>0</td>\n",
       "      <td>Mailed check</td>\n",
       "      <td>70.15</td>\n",
       "      <td>...</td>\n",
       "      <td>1.0</td>\n",
       "      <td>True</td>\n",
       "      <td>True</td>\n",
       "      <td>True</td>\n",
       "      <td>True</td>\n",
       "      <td>0</td>\n",
       "      <td>2021-01-03</td>\n",
       "      <td>One Line</td>\n",
       "      <td>Fiber Optic</td>\n",
       "      <td>Month-to-Month</td>\n",
       "    </tr>\n",
       "  </tbody>\n",
       "</table>\n",
       "<p>7032 rows × 22 columns</p>\n",
       "</div>"
      ],
      "text/plain": [
       "     customer_id  gender  is_senior_citizen partner dependents  phone_service  \\\n",
       "0     0002-ORFBO  Female                  0     Yes        Yes              1   \n",
       "1     0003-MKNFE    Male                  0      No         No              2   \n",
       "2     0004-TLHLJ    Male                  0      No         No              1   \n",
       "3     0011-IGKFF    Male                  1     Yes         No              1   \n",
       "4     0013-EXCHZ  Female                  1     Yes         No              1   \n",
       "...          ...     ...                ...     ...        ...            ...   \n",
       "7038  9987-LUTYD    Male                  0     Yes        Yes              1   \n",
       "7039  9992-RRAMN    Male                  0      No         No              1   \n",
       "7040  9992-UJOEL    Male                  1     Yes        Yes              1   \n",
       "7041  9993-LHIEB  Female                  0      No         No              1   \n",
       "7042  9995-HOTOH  Female                  0      No         No              1   \n",
       "\n",
       "      internet_service  contract_int               payment_type  \\\n",
       "0                    1             1               Mailed check   \n",
       "1                    1             0               Mailed check   \n",
       "2                    2             0           Electronic check   \n",
       "3                    2             0           Electronic check   \n",
       "4                    2             0               Mailed check   \n",
       "...                ...           ...                        ...   \n",
       "7038                 0             2    Credit card (automatic)   \n",
       "7039                 0             0               Mailed check   \n",
       "7040                 2             1  Bank transfer (automatic)   \n",
       "7041                 2             1               Mailed check   \n",
       "7042                 2             0               Mailed check   \n",
       "\n",
       "      monthly_charges  ...  tenure_month has_churned  has_phone  has_internet  \\\n",
       "0               65.60  ...           9.0       False       True          True   \n",
       "1               59.90  ...           9.1       False       True          True   \n",
       "2               73.90  ...           3.8        True       True          True   \n",
       "3               98.00  ...          12.6        True       True          True   \n",
       "4               83.90  ...           3.2        True       True          True   \n",
       "...               ...  ...           ...         ...        ...           ...   \n",
       "7038            19.75  ...          43.4       False       True         False   \n",
       "7039            18.90  ...           1.0       False       True         False   \n",
       "7040            84.95  ...          47.3       False       True          True   \n",
       "7041            94.05  ...           6.7       False       True          True   \n",
       "7042            70.15  ...           1.0        True       True          True   \n",
       "\n",
       "      has_internet_and_phone  partner_dependents   start_day  \\\n",
       "0                       True                   3  2020-05-03   \n",
       "1                       True                   0  2020-05-03   \n",
       "2                       True                   0  2020-11-03   \n",
       "3                       True                   1  2020-02-03   \n",
       "4                       True                   1  2020-11-03   \n",
       "...                      ...                 ...         ...   \n",
       "7038                   False                   3  2017-07-03   \n",
       "7039                   False                   0  2021-01-03   \n",
       "7040                    True                   3  2017-03-03   \n",
       "7041                    True                   0  2020-08-03   \n",
       "7042                    True                   0  2021-01-03   \n",
       "\n",
       "             phone_type        internet_type   contract_type  \n",
       "0              One Line                  DSL          1 Year  \n",
       "1     Two or More Lines                  DSL  Month-to-Month  \n",
       "2              One Line          Fiber Optic  Month-to-Month  \n",
       "3              One Line          Fiber Optic  Month-to-Month  \n",
       "4              One Line          Fiber Optic  Month-to-Month  \n",
       "...                 ...                  ...             ...  \n",
       "7038           One Line  No Internet Service          2 Year  \n",
       "7039           One Line  No Internet Service  Month-to-Month  \n",
       "7040           One Line          Fiber Optic          1 Year  \n",
       "7041           One Line          Fiber Optic          1 Year  \n",
       "7042           One Line          Fiber Optic  Month-to-Month  \n",
       "\n",
       "[7032 rows x 22 columns]"
      ]
     },
     "execution_count": 15,
     "metadata": {},
     "output_type": "execute_result"
    }
   ],
   "source": [
    "pd.read_csv('clean_telco.csv', index_col=0)"
   ]
  },
  {
   "cell_type": "code",
   "execution_count": 16,
   "id": "1470fb4c-9f46-4ee1-a8fc-ef295e267479",
   "metadata": {},
   "outputs": [],
   "source": [
    "# Create subset of month-to-month contract customers only.\n",
    "\n",
    "m2m = df[df.contract_type == 'Month-to-Month']"
   ]
  },
  {
   "cell_type": "code",
   "execution_count": 17,
   "id": "46ae754b-08f6-45ff-a61b-1d19383d8796",
   "metadata": {},
   "outputs": [
    {
     "data": {
      "text/plain": [
       "(3873, 22)"
      ]
     },
     "execution_count": 17,
     "metadata": {},
     "output_type": "execute_result"
    }
   ],
   "source": [
    "# I have 3_873 month-to-month customers.\n",
    "\n",
    "m2m.shape"
   ]
  },
  {
   "cell_type": "code",
   "execution_count": 18,
   "id": "0017efa8-07d6-4748-af5c-2bd3020c91ef",
   "metadata": {},
   "outputs": [
    {
     "data": {
      "text/html": [
       "<div>\n",
       "<style scoped>\n",
       "    .dataframe tbody tr th:only-of-type {\n",
       "        vertical-align: middle;\n",
       "    }\n",
       "\n",
       "    .dataframe tbody tr th {\n",
       "        vertical-align: top;\n",
       "    }\n",
       "\n",
       "    .dataframe thead th {\n",
       "        text-align: right;\n",
       "    }\n",
       "</style>\n",
       "<table border=\"1\" class=\"dataframe\">\n",
       "  <thead>\n",
       "    <tr style=\"text-align: right;\">\n",
       "      <th></th>\n",
       "      <th>customer_id</th>\n",
       "      <th>gender</th>\n",
       "      <th>is_senior_citizen</th>\n",
       "      <th>partner</th>\n",
       "      <th>dependents</th>\n",
       "      <th>phone_service</th>\n",
       "      <th>internet_service</th>\n",
       "      <th>contract_int</th>\n",
       "      <th>payment_type</th>\n",
       "      <th>monthly_charges</th>\n",
       "      <th>...</th>\n",
       "      <th>tenure_month</th>\n",
       "      <th>has_churned</th>\n",
       "      <th>has_phone</th>\n",
       "      <th>has_internet</th>\n",
       "      <th>has_internet_and_phone</th>\n",
       "      <th>partner_dependents</th>\n",
       "      <th>start_day</th>\n",
       "      <th>phone_type</th>\n",
       "      <th>internet_type</th>\n",
       "      <th>contract_type</th>\n",
       "    </tr>\n",
       "  </thead>\n",
       "  <tbody>\n",
       "    <tr>\n",
       "      <th>1</th>\n",
       "      <td>0003-MKNFE</td>\n",
       "      <td>Male</td>\n",
       "      <td>0</td>\n",
       "      <td>No</td>\n",
       "      <td>No</td>\n",
       "      <td>2</td>\n",
       "      <td>1</td>\n",
       "      <td>0</td>\n",
       "      <td>Mailed check</td>\n",
       "      <td>59.9</td>\n",
       "      <td>...</td>\n",
       "      <td>9.1</td>\n",
       "      <td>False</td>\n",
       "      <td>True</td>\n",
       "      <td>True</td>\n",
       "      <td>True</td>\n",
       "      <td>0</td>\n",
       "      <td>2020-05-03</td>\n",
       "      <td>Two or More Lines</td>\n",
       "      <td>DSL</td>\n",
       "      <td>Month-to-Month</td>\n",
       "    </tr>\n",
       "    <tr>\n",
       "      <th>2</th>\n",
       "      <td>0004-TLHLJ</td>\n",
       "      <td>Male</td>\n",
       "      <td>0</td>\n",
       "      <td>No</td>\n",
       "      <td>No</td>\n",
       "      <td>1</td>\n",
       "      <td>2</td>\n",
       "      <td>0</td>\n",
       "      <td>Electronic check</td>\n",
       "      <td>73.9</td>\n",
       "      <td>...</td>\n",
       "      <td>3.8</td>\n",
       "      <td>True</td>\n",
       "      <td>True</td>\n",
       "      <td>True</td>\n",
       "      <td>True</td>\n",
       "      <td>0</td>\n",
       "      <td>2020-11-03</td>\n",
       "      <td>One Line</td>\n",
       "      <td>Fiber Optic</td>\n",
       "      <td>Month-to-Month</td>\n",
       "    </tr>\n",
       "    <tr>\n",
       "      <th>3</th>\n",
       "      <td>0011-IGKFF</td>\n",
       "      <td>Male</td>\n",
       "      <td>1</td>\n",
       "      <td>Yes</td>\n",
       "      <td>No</td>\n",
       "      <td>1</td>\n",
       "      <td>2</td>\n",
       "      <td>0</td>\n",
       "      <td>Electronic check</td>\n",
       "      <td>98.0</td>\n",
       "      <td>...</td>\n",
       "      <td>12.6</td>\n",
       "      <td>True</td>\n",
       "      <td>True</td>\n",
       "      <td>True</td>\n",
       "      <td>True</td>\n",
       "      <td>1</td>\n",
       "      <td>2020-02-03</td>\n",
       "      <td>One Line</td>\n",
       "      <td>Fiber Optic</td>\n",
       "      <td>Month-to-Month</td>\n",
       "    </tr>\n",
       "    <tr>\n",
       "      <th>4</th>\n",
       "      <td>0013-EXCHZ</td>\n",
       "      <td>Female</td>\n",
       "      <td>1</td>\n",
       "      <td>Yes</td>\n",
       "      <td>No</td>\n",
       "      <td>1</td>\n",
       "      <td>2</td>\n",
       "      <td>0</td>\n",
       "      <td>Mailed check</td>\n",
       "      <td>83.9</td>\n",
       "      <td>...</td>\n",
       "      <td>3.2</td>\n",
       "      <td>True</td>\n",
       "      <td>True</td>\n",
       "      <td>True</td>\n",
       "      <td>True</td>\n",
       "      <td>1</td>\n",
       "      <td>2020-11-03</td>\n",
       "      <td>One Line</td>\n",
       "      <td>Fiber Optic</td>\n",
       "      <td>Month-to-Month</td>\n",
       "    </tr>\n",
       "    <tr>\n",
       "      <th>5</th>\n",
       "      <td>0013-MHZWF</td>\n",
       "      <td>Female</td>\n",
       "      <td>0</td>\n",
       "      <td>No</td>\n",
       "      <td>Yes</td>\n",
       "      <td>1</td>\n",
       "      <td>1</td>\n",
       "      <td>0</td>\n",
       "      <td>Credit card (automatic)</td>\n",
       "      <td>69.4</td>\n",
       "      <td>...</td>\n",
       "      <td>8.2</td>\n",
       "      <td>False</td>\n",
       "      <td>True</td>\n",
       "      <td>True</td>\n",
       "      <td>True</td>\n",
       "      <td>2</td>\n",
       "      <td>2020-06-03</td>\n",
       "      <td>One Line</td>\n",
       "      <td>DSL</td>\n",
       "      <td>Month-to-Month</td>\n",
       "    </tr>\n",
       "  </tbody>\n",
       "</table>\n",
       "<p>5 rows × 22 columns</p>\n",
       "</div>"
      ],
      "text/plain": [
       "  customer_id  gender  is_senior_citizen partner dependents  phone_service  \\\n",
       "1  0003-MKNFE    Male                  0      No         No              2   \n",
       "2  0004-TLHLJ    Male                  0      No         No              1   \n",
       "3  0011-IGKFF    Male                  1     Yes         No              1   \n",
       "4  0013-EXCHZ  Female                  1     Yes         No              1   \n",
       "5  0013-MHZWF  Female                  0      No        Yes              1   \n",
       "\n",
       "   internet_service  contract_int             payment_type  monthly_charges  \\\n",
       "1                 1             0             Mailed check             59.9   \n",
       "2                 2             0         Electronic check             73.9   \n",
       "3                 2             0         Electronic check             98.0   \n",
       "4                 2             0             Mailed check             83.9   \n",
       "5                 1             0  Credit card (automatic)             69.4   \n",
       "\n",
       "   ...  tenure_month has_churned  has_phone  has_internet  \\\n",
       "1  ...           9.1       False       True          True   \n",
       "2  ...           3.8        True       True          True   \n",
       "3  ...          12.6        True       True          True   \n",
       "4  ...           3.2        True       True          True   \n",
       "5  ...           8.2       False       True          True   \n",
       "\n",
       "   has_internet_and_phone  partner_dependents   start_day         phone_type  \\\n",
       "1                    True                   0  2020-05-03  Two or More Lines   \n",
       "2                    True                   0  2020-11-03           One Line   \n",
       "3                    True                   1  2020-02-03           One Line   \n",
       "4                    True                   1  2020-11-03           One Line   \n",
       "5                    True                   2  2020-06-03           One Line   \n",
       "\n",
       "  internet_type   contract_type  \n",
       "1           DSL  Month-to-Month  \n",
       "2   Fiber Optic  Month-to-Month  \n",
       "3   Fiber Optic  Month-to-Month  \n",
       "4   Fiber Optic  Month-to-Month  \n",
       "5           DSL  Month-to-Month  \n",
       "\n",
       "[5 rows x 22 columns]"
      ]
     },
     "execution_count": 18,
     "metadata": {},
     "output_type": "execute_result"
    }
   ],
   "source": [
    "m2m.head()"
   ]
  },
  {
   "cell_type": "markdown",
   "id": "1817bb5c-6492-4a79-b82d-8ae2eff73c7e",
   "metadata": {},
   "source": [
    "### Explore Internet Type"
   ]
  },
  {
   "cell_type": "code",
   "execution_count": 19,
   "id": "ae901973-4741-4306-a29e-844ea3a40097",
   "metadata": {},
   "outputs": [
    {
     "data": {
      "text/plain": [
       "0.4270591272915053"
      ]
     },
     "execution_count": 19,
     "metadata": {},
     "output_type": "execute_result"
    }
   ],
   "source": [
    "# Find the churn percentage for month-to-month subset.\n",
    "\n",
    "m2m.has_churned.mean()"
   ]
  },
  {
   "cell_type": "code",
   "execution_count": 20,
   "id": "9b0ee3da-ff53-4b7e-a63b-614fcb69801a",
   "metadata": {},
   "outputs": [
    {
     "data": {
      "text/plain": [
       "1654"
      ]
     },
     "execution_count": 20,
     "metadata": {},
     "output_type": "execute_result"
    }
   ],
   "source": [
    "# Find the total number of month-to-month customers who churn in our snapshot.\n",
    "\n",
    "m2m.has_churned.sum()"
   ]
  },
  {
   "cell_type": "code",
   "execution_count": 21,
   "id": "b9c85a67-ce76-4e67-85fd-3bfa0e93d1f3",
   "metadata": {},
   "outputs": [
    {
     "data": {
      "text/plain": [
       "Fiber Optic            2127\n",
       "DSL                    1223\n",
       "No Internet Service     523\n",
       "Name: internet_type, dtype: int64"
      ]
     },
     "execution_count": 21,
     "metadata": {},
     "output_type": "execute_result"
    }
   ],
   "source": [
    "# Identify all values for internet type.\n",
    "\n",
    "m2m.internet_type.value_counts()"
   ]
  },
  {
   "cell_type": "markdown",
   "id": "0e88f006-fa71-4af3-98d2-626831dd9890",
   "metadata": {},
   "source": [
    "#### Create Subsets by Internet Type"
   ]
  },
  {
   "cell_type": "code",
   "execution_count": 22,
   "id": "554499c7-fde5-4d28-bcf5-a9ce95fd748b",
   "metadata": {},
   "outputs": [
    {
     "data": {
      "text/plain": [
       "(2127, 22)"
      ]
     },
     "execution_count": 22,
     "metadata": {},
     "output_type": "execute_result"
    }
   ],
   "source": [
    "# Create a month-to-month Fiber customer subset.\n",
    "\n",
    "m2m_fiber = m2m[m2m.internet_type == 'Fiber Optic']\n",
    "m2m_fiber.shape"
   ]
  },
  {
   "cell_type": "code",
   "execution_count": 27,
   "id": "159946d6-0574-4603-bd1f-b66d12a959ed",
   "metadata": {},
   "outputs": [
    {
     "data": {
      "text/plain": [
       "(1223, 22)"
      ]
     },
     "execution_count": 27,
     "metadata": {},
     "output_type": "execute_result"
    }
   ],
   "source": [
    "# Create a month-to-month DSL customer subset.\n",
    "\n",
    "m2m_dsl = m2m[m2m.internet_type == 'DSL']\n",
    "m2m_dsl.shape"
   ]
  },
  {
   "cell_type": "code",
   "execution_count": 29,
   "id": "6a82ce75-eb1e-483b-91ef-4e51b338b92a",
   "metadata": {},
   "outputs": [
    {
     "data": {
      "text/plain": [
       "(523, 22)"
      ]
     },
     "execution_count": 29,
     "metadata": {},
     "output_type": "execute_result"
    }
   ],
   "source": [
    "# Create a month-to-month No Internet customer subset.\n",
    "\n",
    "m2m_no_internet = m2m[m2m.internet_type == 'No Internet Service']\n",
    "m2m_no_internet.shape"
   ]
  },
  {
   "cell_type": "markdown",
   "id": "72863283-3ff0-4e85-9b66-40a10b178e10",
   "metadata": {},
   "source": [
    "#### Create Subsets by Internet Type and Churn"
   ]
  },
  {
   "cell_type": "code",
   "execution_count": 23,
   "id": "1d0b926d-287e-4ff9-814a-d86fb4e1b624",
   "metadata": {},
   "outputs": [],
   "source": [
    "# Create subsets of monthly Fiber customers who churn and those who don't.\n",
    "\n",
    "m2m_f_churn = m2m_fiber[m2m_fiber.has_churned == True]\n",
    "m2m_f_no_churn = m2m_fiber[m2m_fiber.has_churned == False]"
   ]
  },
  {
   "cell_type": "code",
   "execution_count": 30,
   "id": "de356917-edb7-4030-a79e-e3e9788db3cd",
   "metadata": {},
   "outputs": [],
   "source": [
    "# Create subsets of monthly DSL customers who churn and those who don't.\n",
    "\n",
    "m2m_d_churn = m2m_dsl[m2m_dsl.has_churned == True]\n",
    "m2m_d_no_churn = m2m_dsl[m2m_dsl.has_churned == False]"
   ]
  },
  {
   "cell_type": "code",
   "execution_count": 32,
   "id": "d673021e-cb3b-450b-97a0-b32032a7225b",
   "metadata": {},
   "outputs": [],
   "source": [
    "# Create subsets of monthly No Internet customers who churn and those who don't.\n",
    "\n",
    "m2m_n_churn = m2m_no_internet[m2m_no_internet.has_churned == True]\n",
    "m2m_n_no_churn = m2m_no_internet[m2m_no_internet.has_churned == False]"
   ]
  },
  {
   "cell_type": "markdown",
   "id": "9d910f3f-acef-4eba-b611-1d05c3d78130",
   "metadata": {},
   "source": [
    "#### Examine Monthly Charges for Subsets"
   ]
  },
  {
   "cell_type": "code",
   "execution_count": 33,
   "id": "8cd37b19-aacd-4b39-b547-99b8ee4c5d9a",
   "metadata": {},
   "outputs": [
    {
     "data": {
      "text/plain": [
       "86.47450473729536"
      ]
     },
     "execution_count": 33,
     "metadata": {},
     "output_type": "execute_result"
    }
   ],
   "source": [
    "# Find the average monthly charges for month-to-month Fiber customers who churn.\n",
    "\n",
    "m2m_f_churn.monthly_charges.mean()"
   ]
  },
  {
   "cell_type": "code",
   "execution_count": 34,
   "id": "1f3662f9-3579-481b-9dc3-2204f5cefe96",
   "metadata": {},
   "outputs": [
    {
     "data": {
      "text/plain": [
       "87.6802277432713"
      ]
     },
     "execution_count": 34,
     "metadata": {},
     "output_type": "execute_result"
    }
   ],
   "source": [
    "# Find the average monthly charges for month-to-month Fiber customers who don't churn.\n",
    "\n",
    "m2m_f_no_churn.monthly_charges.mean()"
   ]
  },
  {
   "cell_type": "code",
   "execution_count": null,
   "id": "c7c0fd1a-02c5-4108-b1db-1a58040c7d1c",
   "metadata": {},
   "outputs": [],
   "source": []
  },
  {
   "cell_type": "code",
   "execution_count": null,
   "id": "e2b291c7-53dc-40bd-8d80-db9a026e3e86",
   "metadata": {},
   "outputs": [],
   "source": []
  },
  {
   "cell_type": "code",
   "execution_count": null,
   "id": "5051aa32-4828-4606-8b84-4786052c8d01",
   "metadata": {},
   "outputs": [],
   "source": []
  },
  {
   "cell_type": "markdown",
   "id": "9f4fa22d-f3f0-4ff2-a2c6-a24553f340f6",
   "metadata": {},
   "source": [
    "#### Create Subsets for M2M Churn or Not Churn"
   ]
  },
  {
   "cell_type": "code",
   "execution_count": 39,
   "id": "2b7e4a73-df88-4aa5-be02-1510939d8210",
   "metadata": {},
   "outputs": [],
   "source": [
    "# Create Subsets of month-to-month customers who have churned and not churned.\n",
    "\n",
    "m2m_churned = m2m[m2m.has_churned == True]\n",
    "m2m_no_churn = m2m[m2m.has_churned == False]"
   ]
  },
  {
   "cell_type": "markdown",
   "id": "f518bf30-c908-4ef8-bca6-61b4cd4d1f71",
   "metadata": {},
   "source": [
    "#### Examine Churn by Internet Type"
   ]
  },
  {
   "cell_type": "code",
   "execution_count": 44,
   "id": "e83bdf55-14a9-434d-88bc-05bf32694140",
   "metadata": {},
   "outputs": [
    {
     "data": {
      "text/plain": [
       "0.5458392101551481"
      ]
     },
     "execution_count": 44,
     "metadata": {},
     "output_type": "execute_result"
    }
   ],
   "source": [
    "# 55 out of every 100 Fiber customers leave us.\n",
    "\n",
    "m2m_fiber.has_churned.mean()"
   ]
  },
  {
   "cell_type": "code",
   "execution_count": 47,
   "id": "739d468a-8573-42f5-9dae-cdd4e875938e",
   "metadata": {},
   "outputs": [
    {
     "data": {
      "text/plain": [
       "0.5458392101551481"
      ]
     },
     "execution_count": 47,
     "metadata": {},
     "output_type": "execute_result"
    }
   ],
   "source": [
    "# Validating my math.\n",
    "\n",
    "m2m_f_churn.shape[0] / m2m_fiber.shape[0]"
   ]
  },
  {
   "cell_type": "code",
   "execution_count": 45,
   "id": "c783dcab-e31d-4fab-862e-33b88cf8ca93",
   "metadata": {},
   "outputs": [
    {
     "data": {
      "text/plain": [
       "0.32297628781684384"
      ]
     },
     "execution_count": 45,
     "metadata": {},
     "output_type": "execute_result"
    }
   ],
   "source": [
    "# 32 out of every 100 DSL customers leave us.\n",
    "\n",
    "m2m_dsl.has_churned.mean()"
   ]
  },
  {
   "cell_type": "code",
   "execution_count": 46,
   "id": "3d742a85-872a-4ac5-9b60-9c4d1a5c236b",
   "metadata": {},
   "outputs": [
    {
     "data": {
      "text/plain": [
       "0.18738049713193117"
      ]
     },
     "execution_count": 46,
     "metadata": {},
     "output_type": "execute_result"
    }
   ],
   "source": [
    "# 19 out of every 100 customers without internet leave us.\n",
    "\n",
    "m2m_no_internet.has_churned.mean()"
   ]
  },
  {
   "cell_type": "markdown",
   "id": "f325a71a-660f-4231-b393-d1f67f2a65d1",
   "metadata": {},
   "source": [
    "#### Examine the Breakdown of Internet Type for Churners"
   ]
  },
  {
   "cell_type": "code",
   "execution_count": 40,
   "id": "8feebde2-5ff7-42d7-8884-db1c453750b2",
   "metadata": {},
   "outputs": [
    {
     "data": {
      "text/plain": [
       "0.23881499395405079"
      ]
     },
     "execution_count": 40,
     "metadata": {},
     "output_type": "execute_result"
    }
   ],
   "source": [
    "# 24% of our M2M Churners have DSL.\n",
    "\n",
    "(m2m_d_churn.shape[0] / m2m_churned.shape[0])"
   ]
  },
  {
   "cell_type": "code",
   "execution_count": 41,
   "id": "0441908d-4558-4d22-bf12-403e47c4d7e4",
   "metadata": {},
   "outputs": [
    {
     "data": {
      "text/plain": [
       "0.7019347037484885"
      ]
     },
     "execution_count": 41,
     "metadata": {},
     "output_type": "execute_result"
    }
   ],
   "source": [
    "# 70% of our M2M Churners have Fiber.\n",
    "\n",
    "(m2m_f_churn.shape[0] / m2m_churned.shape[0])"
   ]
  },
  {
   "cell_type": "code",
   "execution_count": 42,
   "id": "51c41570-1276-4e19-a0b3-416c59b756f7",
   "metadata": {},
   "outputs": [
    {
     "data": {
      "text/plain": [
       "0.0592503022974607"
      ]
     },
     "execution_count": 42,
     "metadata": {},
     "output_type": "execute_result"
    }
   ],
   "source": [
    "# 6% of our M2M Churners have No Internet Service.\n",
    "\n",
    "(m2m_n_churn.shape[0] / m2m_churned.shape[0])"
   ]
  },
  {
   "cell_type": "code",
   "execution_count": null,
   "id": "3e4d8e79-7f93-4aa7-9794-5913118efde0",
   "metadata": {},
   "outputs": [],
   "source": []
  }
 ],
 "metadata": {
  "kernelspec": {
   "display_name": "Python 3",
   "language": "python",
   "name": "python3"
  },
  "language_info": {
   "codemirror_mode": {
    "name": "ipython",
    "version": 3
   },
   "file_extension": ".py",
   "mimetype": "text/x-python",
   "name": "python",
   "nbconvert_exporter": "python",
   "pygments_lexer": "ipython3",
   "version": "3.7.7"
  }
 },
 "nbformat": 4,
 "nbformat_minor": 5
}
