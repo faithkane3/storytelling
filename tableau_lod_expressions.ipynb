{
 "cells": [
  {
   "cell_type": "markdown",
   "id": "cdef654d-d3eb-4e18-ba53-db8a257f4c62",
   "metadata": {},
   "source": [
    "# Tableau - LOD Expressions\n",
    "\n",
    "Expressions referencing unaggregated datasource columns are computed for each row in a dataset.\n",
    "\n",
    "> -For example, [profit] / [sales] calculates a profit ratio for each row in the dataset.\n",
    "\n",
    "Expressions referencing aggregated data source columns are computed at the dimensionality defined by the dimensions in the view.\n",
    "\n",
    "> -For example, SUM[profit] / SUM[sales] performs an aggregate calculation returning a single summary value."
   ]
  }
 ],
 "metadata": {
  "kernelspec": {
   "display_name": "Python 3",
   "language": "python",
   "name": "python3"
  },
  "language_info": {
   "codemirror_mode": {
    "name": "ipython",
    "version": 3
   },
   "file_extension": ".py",
   "mimetype": "text/x-python",
   "name": "python",
   "nbconvert_exporter": "python",
   "pygments_lexer": "ipython3",
   "version": "3.7.7"
  }
 },
 "nbformat": 4,
 "nbformat_minor": 5
}
